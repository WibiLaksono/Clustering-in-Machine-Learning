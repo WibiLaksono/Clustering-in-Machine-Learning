{
 "cells": [
  {
   "cell_type": "markdown",
   "id": "7ceae423",
   "metadata": {},
   "source": [
    "This section is just for experimentation, specifically to find the best values ​​for eps and min_pts using the iris dataset as the experimental dataset."
   ]
  },
  {
   "cell_type": "code",
   "execution_count": 1,
   "id": "f689df34",
   "metadata": {},
   "outputs": [],
   "source": [
    "import numpy as np\n",
    "import matplotlib.pyplot as plt\n",
    "from ucimlrepo import fetch_ucirepo\n",
    "from sklearn.metrics import adjusted_rand_score, silhouette_score\n",
    "from sklearn.decomposition import PCA"
   ]
  },
  {
   "cell_type": "code",
   "execution_count": 2,
   "id": "498655a0",
   "metadata": {},
   "outputs": [],
   "source": [
    "# Step 1: Load iris dataset\n",
    "iris = fetch_ucirepo(id=53)  # ID 53 adalah Iris\n",
    "X = iris.data.features.values[:, 2:]\n",
    "true_labels = iris.data.targets.values.flatten()"
   ]
  },
  {
   "cell_type": "code",
   "execution_count": 3,
   "id": "cbdeb626",
   "metadata": {},
   "outputs": [],
   "source": [
    "# Step 2: Define Euclidean distance\n",
    "def euclidean(p1, p2):\n",
    "    return np.sqrt(np.sum((p1 - p2) ** 2))"
   ]
  },
  {
   "cell_type": "code",
   "execution_count": 4,
   "id": "50b3358b",
   "metadata": {},
   "outputs": [],
   "source": [
    "# Step 3: Cari tetangga dalam radius eps\n",
    "def region_query(X, point_idx, eps):\n",
    "    neighbors = []\n",
    "    for i in range(len(X)):\n",
    "        if euclidean(X[point_idx], X[i]) < eps:\n",
    "            neighbors.append(i)\n",
    "    return neighbors"
   ]
  },
  {
   "cell_type": "code",
   "execution_count": 5,
   "id": "f2dbc34d",
   "metadata": {},
   "outputs": [],
   "source": [
    "# Step 4: Ekspansi cluster dari core point\n",
    "def expand_cluster(X, labels, point_idx, cluster_id, eps, min_pts):\n",
    "    neighbors = region_query(X, point_idx, eps)\n",
    "    \n",
    "    if len(neighbors) < min_pts:\n",
    "        labels[point_idx] = -1  # noise\n",
    "        return False\n",
    "    else:\n",
    "        labels[point_idx] = cluster_id\n",
    "        i = 0\n",
    "        while i < len(neighbors):\n",
    "            neighbor_idx = neighbors[i]\n",
    "            if labels[neighbor_idx] == 0:\n",
    "                labels[neighbor_idx] = cluster_id\n",
    "                new_neighbors = region_query(X, neighbor_idx, eps)\n",
    "                if len(new_neighbors) >= min_pts:\n",
    "                    neighbors += new_neighbors\n",
    "            elif labels[neighbor_idx] == -1:\n",
    "                labels[neighbor_idx] = cluster_id\n",
    "            i += 1\n",
    "        return True"
   ]
  },
  {
   "cell_type": "code",
   "execution_count": 6,
   "id": "e48c259e",
   "metadata": {},
   "outputs": [],
   "source": [
    "# Step 5: DBSCAN utama\n",
    "def dbscan(X, eps, min_pts):\n",
    "    labels = [0] * len(X)  # 0 = belum dikunjungi\n",
    "    cluster_id = 0\n",
    "    \n",
    "    for point_idx in range(len(X)):\n",
    "        if labels[point_idx] == 0:\n",
    "            if expand_cluster(X, labels, point_idx, cluster_id + 1, eps, min_pts):\n",
    "                cluster_id += 1\n",
    "    return np.array(labels)"
   ]
  },
  {
   "cell_type": "code",
   "execution_count": 7,
   "id": "855a118f",
   "metadata": {},
   "outputs": [],
   "source": [
    "\n",
    "# Step 6: Visualisasi hasil clustering\n",
    "def plot_dbscan(X, labels, title=\"DBSCAN Clustering\"):\n",
    "    unique_labels = set(labels)\n",
    "    colors = plt.cm.get_cmap(\"tab10\", len(unique_labels))\n",
    "\n",
    "    for k in unique_labels:\n",
    "        class_member_mask = (labels == k)\n",
    "        xy = X[class_member_mask]\n",
    "        if k == -1:\n",
    "            plt.scatter(xy[:, 0], xy[:, 1], c='k', label='Noise', marker='x')\n",
    "        else:\n",
    "            plt.scatter(xy[:, 0], xy[:, 1], label=f'Cluster {k}', cmap=colors(k))\n",
    "\n",
    "    plt.xlabel(\"Petal Length\")\n",
    "    plt.ylabel(\"Petal Width\")\n",
    "    plt.legend()\n",
    "    plt.title(title)\n",
    "    plt.show()"
   ]
  },
  {
   "cell_type": "code",
   "execution_count": 8,
   "id": "d4715dfa",
   "metadata": {},
   "outputs": [],
   "source": [
    "# Step 7: Grid Search untuk cari eps dan min_pts terbaik\n",
    "eps_values = np.arange(0.1, 1.0, 0.05)\n",
    "min_pts_values = range(2, 10)\n",
    "\n",
    "best_ari = -1\n",
    "best_silhouette = -1\n",
    "best_params_ari = (None, None)\n",
    "best_params_sil = (None, None)\n",
    "\n",
    "for eps in eps_values:\n",
    "    for min_pts in min_pts_values:\n",
    "        labels = dbscan(X, eps, min_pts)\n",
    "        n_clusters = len(set(labels)) - (1 if -1 in labels else 0)\n",
    "        \n",
    "        if n_clusters > 1:\n",
    "            ari = adjusted_rand_score(true_labels, labels)\n",
    "            sil = silhouette_score(X, labels)\n",
    "\n",
    "            if ari > best_ari:\n",
    "                best_ari = ari\n",
    "                best_params_ari = (eps, min_pts)\n",
    "            \n",
    "            if sil > best_silhouette:\n",
    "                best_silhouette = sil\n",
    "                best_params_sil = (eps, min_pts)"
   ]
  },
  {
   "cell_type": "code",
   "execution_count": 9,
   "id": "a59e734e",
   "metadata": {},
   "outputs": [
    {
     "name": "stdout",
     "output_type": "stream",
     "text": [
      "=== Hasil Grid Search ===\n",
      "Best ARI: 0.6948 with eps=0.20, min_pts=8\n",
      "Best Silhouette Score: 0.7667 with eps=0.35, min_pts=2\n"
     ]
    }
   ],
   "source": [
    "# Step 8: Tampilkan hasil terbaik berdasarkan ARI\n",
    "print(\"=== Hasil Grid Search ===\")\n",
    "print(f\"Best ARI: {best_ari:.4f} with eps={best_params_ari[0]:.2f}, min_pts={best_params_ari[1]}\")\n",
    "print(f\"Best Silhouette Score: {best_silhouette:.4f} with eps={best_params_sil[0]:.2f}, min_pts={best_params_sil[1]}\")"
   ]
  },
  {
   "cell_type": "code",
   "execution_count": 10,
   "id": "863eb1d1",
   "metadata": {},
   "outputs": [
    {
     "name": "stderr",
     "output_type": "stream",
     "text": [
      "C:\\Users\\User\\AppData\\Local\\Temp\\ipykernel_27188\\1186940875.py:4: MatplotlibDeprecationWarning: The get_cmap function was deprecated in Matplotlib 3.7 and will be removed in 3.11. Use ``matplotlib.colormaps[name]`` or ``matplotlib.colormaps.get_cmap()`` or ``pyplot.get_cmap()`` instead.\n",
      "  colors = plt.cm.get_cmap(\"tab10\", len(unique_labels))\n",
      "C:\\Users\\User\\AppData\\Local\\Temp\\ipykernel_27188\\1186940875.py:12: UserWarning: No data for colormapping provided via 'c'. Parameters 'cmap' will be ignored\n",
      "  plt.scatter(xy[:, 0], xy[:, 1], label=f'Cluster {k}', cmap=colors(k))\n"
     ]
    },
    {
     "data": {
      "image/png": "[encoded data removed]",
      "text/plain": [
       "<Figure size 640x480 with 1 Axes>"
      ]
     },
     "metadata": {},
     "output_type": "display_data"
    },
    {
     "name": "stdout",
     "output_type": "stream",
     "text": [
      "ARI (Best Params): 0.6948\n",
      "Silhouette Score (Best Params): 0.4226\n"
     ]
    }
   ],
   "source": [
    "# Step 9: Visualisasi dan evaluasi akhir dengan parameter terbaik (berdasarkan ARI)\n",
    "best_eps, best_min_pts = best_params_ari\n",
    "final_labels = dbscan(X, best_eps, best_min_pts)\n",
    "\n",
    "plot_dbscan(X, final_labels, title=f\"DBSCAN (eps={best_eps}, min_pts={best_min_pts})\")\n",
    "\n",
    "ari = adjusted_rand_score(true_labels, final_labels)\n",
    "print(f\"ARI (Best Params): {ari:.4f}\")\n",
    "n_clusters = len(set(final_labels)) - (1 if -1 in final_labels else 0)\n",
    "if n_clusters > 1:\n",
    "    sil_score = silhouette_score(X, final_labels)\n",
    "    print(f\"Silhouette Score (Best Params): {sil_score:.4f}\")\n",
    "else:\n",
    "    print(\"Silhouette Score tidak bisa dihitung (cluster terlalu sedikit).\")"
   ]
  }
 ],
 "metadata": {
  "kernelspec": {
   "display_name": "Python 3",
   "language": "python",
   "name": "python3"
  },
  "language_info": {
   "codemirror_mode": {
    "name": "ipython",
    "version": 3
   },
   "file_extension": ".py",
   "mimetype": "text/x-python",
   "name": "python",
   "nbconvert_exporter": "python",
   "pygments_lexer": "ipython3",
   "version": "3.13.1"
  }
 },
 "nbformat": 4,
 "nbformat_minor": 5
}
